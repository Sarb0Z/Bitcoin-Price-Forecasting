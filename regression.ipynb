{
 "cells": [
  {
   "cell_type": "code",
   "execution_count": 21,
   "metadata": {},
   "outputs": [
    {
     "name": "stdout",
     "output_type": "stream",
     "text": [
      "Coefficients: \n",
      " [-1.05998404e-11 -9.15826211e-07 -4.21601121e-09  5.91989313e-08]\n",
      "Mean squared error: 5416497.84\n",
      "Absolute mean error: 1431.71\n"
     ]
    },
    {
     "ename": "IndexError",
     "evalue": "only integers, slices (`:`), ellipsis (`...`), numpy.newaxis (`None`) and integer or boolean arrays are valid indices",
     "output_type": "error",
     "traceback": [
      "\u001b[1;31m---------------------------------------------------------------------------\u001b[0m",
      "\u001b[1;31mIndexError\u001b[0m                                Traceback (most recent call last)",
      "Cell \u001b[1;32mIn[21], line 45\u001b[0m\n\u001b[0;32m     41\u001b[0m \u001b[39mprint\u001b[39m(\u001b[39m\"\u001b[39m\u001b[39mAbsolute mean error: \u001b[39m\u001b[39m%.2f\u001b[39;00m\u001b[39m\"\u001b[39m \u001b[39m%\u001b[39m mean_absolute_error(y_test, y_pred))\n\u001b[0;32m     44\u001b[0m \u001b[39m# Plot outputs\u001b[39;00m\n\u001b[1;32m---> 45\u001b[0m plt\u001b[39m.\u001b[39mscatter(X_test[\u001b[39m'\u001b[39;49m\u001b[39mDate\u001b[39;49m\u001b[39m'\u001b[39;49m], y_test, color\u001b[39m=\u001b[39m\u001b[39m\"\u001b[39m\u001b[39mblack\u001b[39m\u001b[39m\"\u001b[39m)\n\u001b[0;32m     46\u001b[0m plt\u001b[39m.\u001b[39mplot(X_test[\u001b[39m'\u001b[39m\u001b[39mDate\u001b[39m\u001b[39m'\u001b[39m], y_pred, color\u001b[39m=\u001b[39m\u001b[39m\"\u001b[39m\u001b[39mblue\u001b[39m\u001b[39m\"\u001b[39m, linewidth\u001b[39m=\u001b[39m\u001b[39m3\u001b[39m)\n\u001b[0;32m     48\u001b[0m plt\u001b[39m.\u001b[39mxticks(())\n",
      "\u001b[1;31mIndexError\u001b[0m: only integers, slices (`:`), ellipsis (`...`), numpy.newaxis (`None`) and integer or boolean arrays are valid indices"
     ]
    }
   ],
   "source": [
    "import numpy as np\n",
    "import pandas as pd\n",
    "from sklearn import linear_model\n",
    "from sklearn.metrics import mean_squared_error, mean_absolute_error\n",
    "# from sklearn.model_selection import train_test_split\n",
    "import matplotlib.pyplot as plt\n",
    "\n",
    "def split(data, label, test_size):\n",
    "    total=len(label)\n",
    "    test_len=int(total*test_size)\n",
    "    return data[:-test_len], data[-test_len:], label[:-test_len], label[-test_len:]\n",
    "\n",
    "df = pd.read_excel(\"coin_Bitcoin.xlsx\")\n",
    "label = (df['Low'] + df['High']) / 2\n",
    "\n",
    "# Converts date string column to python datetime type\n",
    "# `infer_datetime_format=True` says method to guess date format from string\n",
    "df['Date'] = pd.to_datetime(df['Date'], infer_datetime_format=True)\n",
    "\n",
    "df.sort_values(by='Date')\n",
    "\n",
    "# Coverts column in python datetime type to timestamp\n",
    "df['Date'] = df['Date'].values.astype(np.int64) // 10 ** 9\n",
    "\n",
    "df  = df.drop(['Low', 'High', 'Open', 'Close', 'Name', 'Symbol'], axis=1)\n",
    "\n",
    "X_train, X_test, y_train, y_test = split(df, label, test_size=0.30)\n",
    "\n",
    "regr = linear_model.LinearRegression()\n",
    "# Train the model using the training sets\n",
    "regr.fit(X_train, y_train)\n",
    "\n",
    "# predict the next two months\n",
    "y_pred = regr.predict(X_test)\n",
    "\n",
    "# The coefficients\n",
    "print(\"Coefficients: \\n\", regr.coef_)\n",
    "# The mean squared error\n",
    "print(\"Mean squared error: %.2f\" % mean_squared_error(y_test, y_pred))\n",
    "# The Absolute mean error\n",
    "print(\"Absolute mean error: %.2f\" % mean_absolute_error(y_test, y_pred))\n",
    "\n",
    "\n",
    "# Plot outputs\n",
    "plt.scatter(X_test['Date'], y_test, color=\"black\")\n",
    "plt.plot(X_test['Date'], y_pred, color=\"blue\", linewidth=3)\n",
    "\n",
    "plt.xticks(())\n",
    "plt.yticks(())\n",
    "\n",
    "plt.show()"
   ]
  }
 ],
 "metadata": {
  "kernelspec": {
   "display_name": "Python 3",
   "language": "python",
   "name": "python3"
  },
  "language_info": {
   "codemirror_mode": {
    "name": "ipython",
    "version": 3
   },
   "file_extension": ".py",
   "mimetype": "text/x-python",
   "name": "python",
   "nbconvert_exporter": "python",
   "pygments_lexer": "ipython3",
   "version": "3.10.9"
  },
  "orig_nbformat": 4
 },
 "nbformat": 4,
 "nbformat_minor": 2
}
